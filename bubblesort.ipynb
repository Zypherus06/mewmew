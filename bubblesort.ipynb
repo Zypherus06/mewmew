{
  "nbformat": 4,
  "nbformat_minor": 0,
  "metadata": {
    "colab": {
      "name": "Untitled2.ipynb",
      "provenance": [],
      "authorship_tag": "ABX9TyOKxm55st5Q1okkyd76YxhY",
      "include_colab_link": true
    },
    "kernelspec": {
      "name": "python3",
      "display_name": "Python 3"
    }
  },
  "cells": [
    {
      "cell_type": "markdown",
      "metadata": {
        "id": "view-in-github",
        "colab_type": "text"
      },
      "source": [
        "<a href=\"https://colab.research.google.com/github/Zypherus06/mewmew/blob/master/bubblesort.ipynb\" target=\"_parent\"><img src=\"https://colab.research.google.com/assets/colab-badge.svg\" alt=\"Open In Colab\"/></a>"
      ]
    },
    {
      "cell_type": "code",
      "metadata": {
        "id": "CZVGQNWQaFFY",
        "colab_type": "code",
        "colab": {}
      },
      "source": [
        "p = [45, 88, 155, 2, 65, 26, 190, 88, 45, 369, 25, 100, 210, 1,3356, 10000, 568, 7894, 165]\n"
      ],
      "execution_count": 2,
      "outputs": []
    },
    {
      "cell_type": "code",
      "metadata": {
        "id": "xtUqCbzscLWZ",
        "colab_type": "code",
        "colab": {
          "base_uri": "https://localhost:8080/",
          "height": 34
        },
        "outputId": "adc2a410-79d3-493c-ae5b-aa3471c779d5"
      },
      "source": [
        "def bubblesort(L): \n",
        "    n = len(L) - 1\n",
        "    for j in range(n+1):\n",
        "      for i in range(n):\n",
        "        if L[i] > L[i+1]:\n",
        "          k = L[i]\n",
        "          L[i] = L[i+1]\n",
        "          L[i+1] = k\n",
        "    print (L)\n",
        "\n",
        "bubblesort(p)"
      ],
      "execution_count": 6,
      "outputs": [
        {
          "output_type": "stream",
          "text": [
            "[1, 2, 25, 26, 45, 45, 65, 88, 88, 100, 155, 165, 190, 210, 369, 568, 3356, 7894, 10000]\n"
          ],
          "name": "stdout"
        }
      ]
    }
  ]
}