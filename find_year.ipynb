{
  "nbformat": 4,
  "nbformat_minor": 0,
  "metadata": {
    "colab": {
      "name": "find_year.ipynb",
      "provenance": [],
      "collapsed_sections": [],
      "authorship_tag": "ABX9TyPXm3SKBYFeo5a57IPufiba",
      "include_colab_link": true
    },
    "kernelspec": {
      "name": "python3",
      "display_name": "Python 3"
    }
  },
  "cells": [
    {
      "cell_type": "markdown",
      "metadata": {
        "id": "view-in-github",
        "colab_type": "text"
      },
      "source": [
        "<a href=\"https://colab.research.google.com/github/Zypherus06/mewmew/blob/master/find_year.ipynb\" target=\"_parent\"><img src=\"https://colab.research.google.com/assets/colab-badge.svg\" alt=\"Open In Colab\"/></a>"
      ]
    },
    {
      "cell_type": "code",
      "metadata": {
        "id": "zPGtmZ8bt50G",
        "colab_type": "code",
        "colab": {
          "base_uri": "https://localhost:8080/",
          "height": 34
        },
        "outputId": "9caaebfd-b6a4-4a17-e55f-a2692adea533"
      },
      "source": [
        "def find_year(wordsss):\n",
        "  years = []\n",
        "  n = 0\n",
        "  for wordss in wordsss:\n",
        "    words = wordss.split()\n",
        "    for word in words:\n",
        "      if len(word) == 4:\n",
        "        if word.isnumeric():\n",
        "          year = int(word)\n",
        "          years.append(year)\n",
        "      \n",
        "    if len(years) != (wordsss.index(wordss) + 1):\n",
        "      years.append(\"nan\")\n",
        "       \n",
        "\n",
        "  return years\n",
        "\n",
        "message = [\"hello poop 1234\", \"bruh\", \"nice cock 6969\", \"420 blaze it\"]\n",
        "find_year(message)"
      ],
      "execution_count": null,
      "outputs": [
        {
          "output_type": "execute_result",
          "data": {
            "text/plain": [
              "[1234, 'nan', 6969, 'nan']"
            ]
          },
          "metadata": {
            "tags": []
          },
          "execution_count": 77
        }
      ]
    }
  ]
}